{
 "cells": [
  {
   "cell_type": "code",
   "execution_count": 1,
   "id": "85937477",
   "metadata": {
    "scrolled": false
   },
   "outputs": [
    {
     "data": {
      "text/plain": [
       "(689, 15)"
      ]
     },
     "execution_count": 1,
     "metadata": {},
     "output_type": "execute_result"
    }
   ],
   "source": [
    "import pandas as pd\n",
    "import numpy as np\n",
    "data = pd.read_csv('australian.csv')\n",
    "data.columns=['X1','X2','X3','X4','X5','X6','X7','X8','X9','X10','X11','X12','X13','X14','Y']\n",
    "data.shape"
   ]
  },
  {
   "cell_type": "raw",
   "id": "06669a12",
   "metadata": {},
   "source": [
    "'''From documentation on  https://archive.ics.uci.edu/ml/machine-learning-databases/statlog/australian/australian.doc\n",
    "\n",
    "Attribute Information:   THERE ARE 6 NUMERICAL AND 8 CATEGORICAL ATTRIBUTES.\n",
    " \n",
    "                             THE LABELS HAVE BEEN CHANGED FOR THE CONVENIENCE\n",
    "                             OF THE STATISTICAL ALGORITHMS.   FOR EXAMPLE,\n",
    "                             ATTRIBUTE 4 ORIGINALLY HAD 3 LABELS p,g,gg AND\n",
    "                             THESE HAVE BEEN CHANGED TO LABELS 1,2,3.\n",
    "                             \n",
    "\n",
    "    A1:\t0,1    CATEGORICAL\n",
    "        a,b\n",
    "    A2:\tcontinuous.\n",
    "    A3:\tcontinuous.\n",
    "    A4:\t1,2,3         CATEGORICAL\n",
    "        p,g,gg\n",
    "    A5:  1, 2,3,4,5, 6,7,8,9,10,11,12,13,14    CATEGORICAL\n",
    "         ff,d,i,k,j,aa,m,c,w, e, q, r,cc, x \n",
    "         \n",
    "    A6:\t 1, 2,3, 4,5,6,7,8,9    CATEGORICAL\n",
    "        ff,dd,j,bb,v,n,o,h,z \n",
    "\n",
    "    A7:\tcontinuous.\n",
    "    A8:\t1, 0       CATEGORICAL\n",
    "        t, f.\n",
    "    A9: 1, 0\t    CATEGORICAL\n",
    "        t, f.\n",
    "    A10:\tcontinuous.\n",
    "    A11:  1, 0\t    CATEGORICAL\n",
    "          t, f.\n",
    "    A12:    1, 2, 3    CATEGORICAL\n",
    "            s, g, p \n",
    "    A13:\tcontinuous.\n",
    "    A14:\tcontinuous.\n",
    "    A15 / Y:   1,2\n",
    "           +,-         (class attribute)\n",
    "'''"
   ]
  },
  {
   "cell_type": "code",
   "execution_count": 2,
   "id": "6fd974f2",
   "metadata": {},
   "outputs": [
    {
     "name": "stdout",
     "output_type": "stream",
     "text": [
      "null values in dataset is: \n",
      " X1     0\n",
      "X2     0\n",
      "X3     0\n",
      "X4     0\n",
      "X5     0\n",
      "X6     0\n",
      "X7     0\n",
      "X8     0\n",
      "X9     0\n",
      "X10    0\n",
      "X11    0\n",
      "X12    0\n",
      "X13    0\n",
      "X14    0\n",
      "Y      0\n",
      "dtype: int64\n"
     ]
    }
   ],
   "source": [
    "print('null values in dataset is: \\n', data.isnull().sum())\n",
    "#We can use isnull() method to check whether a cell \n",
    "#contains a numeric value ( False ) or if data is missing ( True )\n",
    "#and used with the sum() method which returns the number of missing values per column"
   ]
  },
  {
   "cell_type": "code",
   "execution_count": 3,
   "id": "c62e3507",
   "metadata": {},
   "outputs": [
    {
     "data": {
      "text/plain": [
       "(689, 14)"
      ]
     },
     "execution_count": 3,
     "metadata": {},
     "output_type": "execute_result"
    }
   ],
   "source": [
    "#b Preprocess the dataset to fill the missing values\n",
    "#==>There is no missing values in the data se as shown above\n",
    "from sklearn import preprocessing\n",
    "le = preprocessing.LabelEncoder()\n",
    "data = data.apply(le.fit_transform)\n",
    "\n",
    "X = data.drop(['Y'], axis=1).values\n",
    "y = data['Y'].values\n",
    "X = pd.DataFrame(X)\n",
    "\n",
    "# Scaling - Standardization\n",
    "from sklearn.preprocessing import StandardScaler\n",
    "sc = StandardScaler()\n",
    "X = sc.fit_transform(X)\n",
    "\n",
    "X.shape\n"
   ]
  },
  {
   "cell_type": "code",
   "execution_count": 4,
   "id": "cb11077b",
   "metadata": {},
   "outputs": [
    {
     "data": {
      "text/plain": [
       "(689, 14)"
      ]
     },
     "execution_count": 4,
     "metadata": {},
     "output_type": "execute_result"
    }
   ],
   "source": [
    "# d. min-max normalization to bring all features in similar range\n",
    "import matplotlib.pyplot as plt\n",
    "\n",
    "# copy the data\n",
    "df_min_max_scaled = X.copy()\n",
    "  \n",
    "# min-max normalization to bring all features in similar range.  \n",
    "# (value - min) / (max -min)\n",
    "for column in range(0,14):\n",
    "    df_min_max_scaled[column] = (df_min_max_scaled[column] - df_min_max_scaled[column].min()) / (df_min_max_scaled[column].max() - df_min_max_scaled[column].min())\n",
    "    \n",
    "# view normalized data\n",
    "df_min_max_scaled.shape"
   ]
  },
  {
   "cell_type": "code",
   "execution_count": 5,
   "id": "cb465dbb",
   "metadata": {},
   "outputs": [
    {
     "name": "stdout",
     "output_type": "stream",
     "text": [
      "[-0.02042642] [[-2.57611176e-03 -4.63658363e-04 -1.44914405e-02  3.42821010e-02\n",
      "   1.10372841e-01  3.35815429e-02  9.24389560e-02  8.55258243e-01\n",
      "   6.95574690e-02  8.47541231e-02 -1.51817076e-02  3.71661310e-02\n",
      "  -2.67453336e-02  9.60299372e-02]]\n",
      "thetas  [-2.04264230e-02 -2.57611176e-03 -4.63658363e-04 -1.44914405e-02\n",
      "  3.42821010e-02  1.10372841e-01  3.35815429e-02  9.24389560e-02\n",
      "  8.55258243e-01  6.95574690e-02  8.47541231e-02 -1.51817076e-02\n",
      "  3.71661310e-02 -2.67453336e-02  9.60299372e-02]\n"
     ]
    }
   ],
   "source": [
    "#2. Split the dataset into training and testing data\n",
    "from sklearn.model_selection import train_test_split\n",
    "\n",
    "X = df_min_max_scaled\n",
    "\n",
    "X_train, X_test, y_train, y_test = train_test_split(X, y, test_size = 0.2,\n",
    "                                                    random_state = 0)\n",
    "\n",
    "#3. Apply SVM algo on X dataset to get appropriate model\n",
    "\n",
    "from sklearn import svm\n",
    "clf = svm.SVC(kernel='linear', C=0.01) #clf is the model ; C is regularization parameter; Linear kernel used for linearly separable dataset;\n",
    "# As values of C parameter increases, misclassification will be less . Thus it leads to overfitting as the margin becomes more harder/smaller\n",
    "# High values of gamma leads to overfitting as it correctly identifies the support vectors and accordingly a harder margin. Its related to Gaussian kernel\n",
    "\n",
    "clf.fit(X_train, y_train)    #Fit the model\n",
    "\n",
    "y_pred = clf.predict(X_test)\n",
    "print(clf.intercept_, clf.coef_)  #the theta parameters t0 given by intercept_ , the remaining parameters t1,t2 given by array coef_ . \n",
    "\n",
    "theta_0=clf.intercept_\n",
    "theta = clf.coef_\n",
    "\n",
    "\n",
    "# Add theta0 with theta array to form a single vector\n",
    "thetas = np.insert(theta[0],0,theta_0)    #theta_0 added at the front of the array. Index 0\n",
    "\n",
    "print('thetas ',thetas)"
   ]
  },
  {
   "cell_type": "code",
   "execution_count": 6,
   "id": "08c842be",
   "metadata": {},
   "outputs": [
    {
     "data": {
      "image/png": "[encoded data removed]",
      "text/plain": [
       "<Figure size 640x480 with 1 Axes>"
      ]
     },
     "metadata": {},
     "output_type": "display_data"
    }
   ],
   "source": [
    "#Form points to draw Decision boundary \n",
    "\n",
    "p1 = np.linspace(-10, 10)    # generating points for X-axis\n",
    "p2 = -(thetas[0] / thetas[1]) * p1 - thetas[0] / thetas[1]  # getting corresponding Y-axis points\n",
    "\n",
    "#Plot data and decision boundary\n",
    "\n",
    "target= y_pred\n",
    "\n",
    "\n",
    "fig= plt.figure()\n",
    "ax=fig.add_subplot(111)     #Inorder to have multiple plots in the same figure\n",
    "\n",
    "plt.scatter(X_test[:,0],X_test[:,1],c = target,s=20)\n",
    "plt.scatter(X_test[:,2],X_test[:,3],c = target,s=20)\n",
    "plt.scatter(X_test[:,4],X_test[:,5],c = target,s=20)\n",
    "plt.scatter(X_test[:,6],X_test[:,7],c = target,s=20)\n",
    "plt.scatter(X_test[:,8],X_test[:,9],c = target,s=20)\n",
    "plt.scatter(X_test[:,10],X_test[:,12],c = target,s=20)\n",
    "\n",
    "# Plotting a red hyperplane\n",
    "plt.plot(p1,p2, c='r');\n",
    "\n",
    "plt.show()"
   ]
  },
  {
   "cell_type": "code",
   "execution_count": 7,
   "id": "32d02097",
   "metadata": {},
   "outputs": [
    {
     "data": {
      "image/png": "[encoded data removed]",
      "text/plain": [
       "<Figure size 640x480 with 1 Axes>"
      ]
     },
     "metadata": {},
     "output_type": "display_data"
    }
   ],
   "source": [
    "#b. For different values of parameter ‘C’, plot the accuracy of the test dataset\n",
    "from sklearn.metrics import accuracy_score\n",
    "\n",
    "C = [0.0005,0.01,0.001,0.1, 1, 10,100]\n",
    "accuracy = []\n",
    "for c in C:\n",
    "    classifier = svm.SVC(kernel='linear', C = c)  \n",
    "    classifier.fit(X_train, y_train)    #Fit the model\n",
    "    y_pred = classifier.predict(X_test)\n",
    "    accuracy.append(accuracy_score(y_test, y_pred))\n",
    "    \n",
    "plt.plot(C,accuracy)\n",
    "plt.xlabel('values of parameter C')\n",
    "plt.ylabel('Accuracy')\n",
    "plt.show()"
   ]
  },
  {
   "cell_type": "code",
   "execution_count": 8,
   "id": "d4efcfd6",
   "metadata": {},
   "outputs": [
    {
     "name": "stdout",
     "output_type": "stream",
     "text": [
      "\n",
      "Mean of the Accuracies after cross-validation:  0.843961038961039\n",
      "\n",
      "Standard Deviation within the accuracies:  0.03349044466146827\n",
      "\n",
      "Accuracy:  0.8695652173913043\n"
     ]
    }
   ],
   "source": [
    "# 4. Does the accuracy change if the kernel function changes?\n",
    "# YES!\n",
    "\n",
    "\n",
    "from sklearn.metrics import accuracy_score\n",
    "accuracy = accuracy_score(y_test, y_pred)\n",
    "\n",
    "# K-Fold Cross Validation\n",
    "from sklearn.model_selection import cross_val_score\n",
    "accuracies = cross_val_score(estimator = clf, X = X_train, y = y_train, cv = 10)\n",
    "\n",
    "print(\"\\nMean of the Accuracies after cross-validation: \", accuracies.mean())\n",
    "print(\"\\nStandard Deviation within the accuracies: \", accuracies.std())\n",
    "\n",
    "print('\\nAccuracy: ', accuracy)\n"
   ]
  },
  {
   "cell_type": "code",
   "execution_count": 9,
   "id": "4e204ace",
   "metadata": {},
   "outputs": [],
   "source": [
    "#Use Poly kernel as well as RBF kernel to check the accuracy"
   ]
  },
  {
   "cell_type": "code",
   "execution_count": 10,
   "id": "bd1d14ef",
   "metadata": {},
   "outputs": [],
   "source": [
    "#Poly kernel \n",
    "clf = svm.SVC(kernel='poly', C=0.01)\n",
    "\n",
    "clf.fit(X_train, y_train)    #Fit the model\n",
    "\n",
    "y_pred = clf.predict(X_test)\n"
   ]
  },
  {
   "cell_type": "code",
   "execution_count": 11,
   "id": "341811ad",
   "metadata": {},
   "outputs": [
    {
     "name": "stdout",
     "output_type": "stream",
     "text": [
      "\n",
      "Mean of the Accuracies after cross-validation:  0.5662012987012986\n",
      "\n",
      "Standard Deviation within the accuracies:  0.024251508134974047\n",
      "\n",
      "Accuracy:  0.6666666666666666\n"
     ]
    }
   ],
   "source": [
    "accuracy = accuracy_score(y_test, y_pred)\n",
    "\n",
    "# K-Fold Cross Validation\n",
    "from sklearn.model_selection import cross_val_score\n",
    "accuracies = cross_val_score(estimator = clf, X = X_train, y = y_train, cv = 10)\n",
    "\n",
    "print(\"\\nMean of the Accuracies after cross-validation: \", accuracies.mean())\n",
    "print(\"\\nStandard Deviation within the accuracies: \", accuracies.std())\n",
    "\n",
    "print('\\nAccuracy: ', accuracy)"
   ]
  },
  {
   "cell_type": "code",
   "execution_count": null,
   "id": "8aaa96b6",
   "metadata": {},
   "outputs": [],
   "source": []
  },
  {
   "cell_type": "code",
   "execution_count": 12,
   "id": "80f10eef",
   "metadata": {},
   "outputs": [],
   "source": [
    "#rbf kernel \n",
    "clf = svm.SVC(kernel='rbf', C=0.01)\n",
    "clf.fit(X_train, y_train)    #Fit the model\n",
    "\n",
    "y_pred = clf.predict(X_test)"
   ]
  },
  {
   "cell_type": "code",
   "execution_count": 13,
   "id": "10bc40ec",
   "metadata": {},
   "outputs": [
    {
     "name": "stdout",
     "output_type": "stream",
     "text": [
      "\n",
      "Mean of the Accuracies after cross-validation:  0.539025974025974\n",
      "\n",
      "Standard Deviation within the accuracies:  0.008205747320478244\n",
      "\n",
      "Accuracy:  0.6159420289855072\n"
     ]
    }
   ],
   "source": [
    "accuracy = accuracy_score(y_test, y_pred)\n",
    "\n",
    "# K-Fold Cross Validation\n",
    "from sklearn.model_selection import cross_val_score\n",
    "accuracies = cross_val_score(estimator = clf, X = X_train, y = y_train, cv = 10)\n",
    "\n",
    "print(\"\\nMean of the Accuracies after cross-validation: \", accuracies.mean())\n",
    "print(\"\\nStandard Deviation within the accuracies: \", accuracies.std())\n",
    "\n",
    "print('\\nAccuracy: ', accuracy)"
   ]
  },
  {
   "cell_type": "code",
   "execution_count": null,
   "id": "93dc9f41",
   "metadata": {},
   "outputs": [],
   "source": []
  }
 ],
 "metadata": {
  "kernelspec": {
   "display_name": "Python 3",
   "language": "python",
   "name": "python3"
  },
  "language_info": {
   "codemirror_mode": {
    "name": "ipython",
    "version": 3
   },
   "file_extension": ".py",
   "mimetype": "text/x-python",
   "name": "python",
   "nbconvert_exporter": "python",
   "pygments_lexer": "ipython3",
   "version": "3.8.3"
  }
 },
 "nbformat": 4,
 "nbformat_minor": 5
}
